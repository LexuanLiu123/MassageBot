{
 "nbformat": 4,
 "nbformat_minor": 2,
 "metadata": {
  "language_info": {
   "name": "python",
   "codemirror_mode": {
    "name": "ipython",
    "version": 3
   },
   "version": "3.7.6-final"
  },
  "orig_nbformat": 2,
  "file_extension": ".py",
  "mimetype": "text/x-python",
  "name": "python",
  "npconvert_exporter": "python",
  "pygments_lexer": "ipython3",
  "version": 3,
  "kernelspec": {
   "name": "python37664bit428820946cd7473d8a76804ffe0f7c21",
   "display_name": "Python 3.7.6 64-bit"
  }
 },
 "cells": [
  {
   "cell_type": "markdown",
   "metadata": {},
   "source": [
    "## Import Necessary Libraries"
   ]
  },
  {
   "cell_type": "code",
   "execution_count": null,
   "metadata": {},
   "outputs": [],
   "source": [
    "from PIL import Image\n",
    "import os\n",
    "import numpy as np \n",
    "import time"
   ]
  },
  {
   "cell_type": "markdown",
   "metadata": {},
   "source": [
    "## Test, Demonstration of Real-Time Image Processing"
   ]
  },
  {
   "cell_type": "code",
   "execution_count": null,
   "metadata": {},
   "outputs": [],
   "source": [
    "img_dir = os.getcwd()\n",
    "\n",
    "def get_colour():\n",
    "    '''\n",
    "    Runs real-time image processing in current working directory\n",
    "    Image analysis through print_shade() function\n",
    "\n",
    "    Parameters:\n",
    "    None\n",
    "\n",
    "    Returns:\n",
    "    None\n",
    "\n",
    "    '''\n",
    "    original = dict([(f, None) for f in os.listdir(img_dir)[1:len(os.listdir(img_dir)) - 1]])\n",
    "    while True:\n",
    "        time.sleep(0.25)\n",
    "        new = dict([(f, None) for f in os.listdir(img_dir)[1:len(os.listdir(img_dir)) - 1]])\n",
    "        added = [f for f in new if not f in original]\n",
    "        if added: \n",
    "            print(print_shade(added[0]))\n",
    "        original = new\n",
    "    \n",
    "def print_shade(img):\n",
    "    '''\n",
    "    Opens an image in the CWD and checks if its centre is dark or light\n",
    "    This is determined by the pixel's B/W RGB value being a certain threshold\n",
    "\n",
    "    Parameters:\n",
    "    img (str): Name of file to read as Image\n",
    "\n",
    "    Returns:\n",
    "    str: Whether new added picture's centre is light or dark\n",
    "\n",
    "    '''\n",
    "    THRESHOLD = 100\n",
    "\n",
    "    i = Image.open(img)\n",
    "    px = i.getpixel((np.array(i).shape[0] / 2, np.array(i).shape[1] / 2))\n",
    "    if px[0] < THRESHOLD: \n",
    "        return 'New added picture is dark'\n",
    "    else: \n",
    "        return 'New added picture is light'\n",
    "    \n",
    "get_colour()"
   ]
  },
  {
   "cell_type": "code",
   "execution_count": null,
   "metadata": {},
   "outputs": [],
   "source": []
  }
 ]
}